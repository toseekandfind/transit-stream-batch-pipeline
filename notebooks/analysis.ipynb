{
  "cells": [
    {
      "cell_type": "code",
      "execution_count": null,
      "metadata": {
        "vscode": {
          "languageId": "plaintext"
        }
      },
      "outputs": [],
      "source": [
        "# Transit Delay Analytics\n",
        "Quick exploration notebook over Parquet outputs in `warehouse/aggregates/route_delay_daily`.\n"
      ]
    },
    {
      "cell_type": "code",
      "execution_count": null,
      "metadata": {},
      "outputs": [],
      "source": [
        "import pandas as pd\n",
        "from pathlib import Path\n",
        "import matplotlib.pyplot as plt\n",
        "\n",
        "base = Path('/home/jovyan/warehouse/aggregates/route_delay_daily')\n",
        "df = pd.concat(pd.read_parquet(p) for p in base.rglob('*.parquet'))\n",
        "df['event_date'] = pd.to_datetime(df['event_date']).dt.date\n",
        "df.sort_values(['event_date','route_id'], inplace=True)\n",
        "df.tail()\n"
      ]
    },
    {
      "cell_type": "code",
      "execution_count": null,
      "metadata": {},
      "outputs": [],
      "source": [
        "# Average delay trend (all routes)\n",
        "trend = df.groupby('event_date')['avg_delay_seconds'].mean().reset_index()\n",
        "trend.plot(x='event_date', y='avg_delay_seconds', figsize=(10,4), title='Average Delay (s) - Trend')\n",
        "plt.show()\n"
      ]
    }
  ],
  "metadata": {
    "language_info": {
      "name": "python"
    }
  },
  "nbformat": 4,
  "nbformat_minor": 2
}
