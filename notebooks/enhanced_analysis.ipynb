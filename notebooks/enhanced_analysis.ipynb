{
  "cells": [
    {
      "cell_type": "code",
      "execution_count": null,
      "metadata": {
        "vscode": {
          "languageId": "plaintext"
        }
      },
      "outputs": [],
      "source": [
        "# Transit Analytics Dashboard\n",
        "\n",
        "Enhanced analysis of real-time transit delays and performance metrics.\n"
      ]
    },
    {
      "cell_type": "code",
      "execution_count": null,
      "metadata": {},
      "outputs": [],
      "source": [
        "import pandas as pd\n",
        "import numpy as np\n",
        "from pathlib import Path\n",
        "import matplotlib.pyplot as plt\n",
        "import seaborn as sns\n",
        "from datetime import datetime, timedelta\n",
        "\n",
        "plt.style.use('default')\n",
        "sns.set_palette('husl')\n",
        "plt.rcParams['figure.figsize'] = (12, 6)\n"
      ]
    },
    {
      "cell_type": "code",
      "execution_count": null,
      "metadata": {},
      "outputs": [],
      "source": [
        "# Load Parquet data\n",
        "base = Path('/home/jovyan/warehouse/aggregates/route_delay_daily')\n",
        "\n",
        "try:\n",
        "    parquet_files = list(base.rglob('*.parquet'))\n",
        "    if parquet_files:\n",
        "        df = pd.concat([pd.read_parquet(p) for p in parquet_files], ignore_index=True)\n",
        "        df['event_date'] = pd.to_datetime(df['event_date']).dt.date\n",
        "        df = df.sort_values(['event_date', 'route_id'])\n",
        "        print(f\"Loaded {len(df)} records from {len(parquet_files)} files\")\n",
        "    else:\n",
        "        # Create sample data for demo\n",
        "        dates = pd.date_range('2025-01-01', periods=7)\n",
        "        routes = ['A', 'B', 'C', 'D']\n",
        "        data = []\n",
        "        for date in dates:\n",
        "            for route in routes:\n",
        "                delay = np.random.normal(30, 15)  # avg 30s delay, 15s std\n",
        "                data.append({\n",
        "                    'event_date': date.date(),\n",
        "                    'route_id': route,\n",
        "                    'avg_delay_seconds': max(0, delay)  # no negative delays\n",
        "                })\n",
        "        df = pd.DataFrame(data)\n",
        "        print(\"Using sample data for demonstration\")\n",
        "        \n",
        "    print(f\"Data shape: {df.shape}\")\n",
        "    df.head()\n",
        "except Exception as e:\n",
        "    print(f\"Error loading data: {e}\")\n",
        "    df = pd.DataFrame()  # Empty fallback\n"
      ]
    }
  ],
  "metadata": {
    "language_info": {
      "name": "python"
    }
  },
  "nbformat": 4,
  "nbformat_minor": 2
}
